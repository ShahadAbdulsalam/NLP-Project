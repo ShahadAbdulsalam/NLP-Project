{
 "cells": [
  {
   "cell_type": "markdown",
   "id": "1c7c1fb4",
   "metadata": {},
   "source": [
    "# Object:\n",
    "\n",
    "### Analysing comments on COVID-⁠19 Vaccines plan."
   ]
  },
  {
   "cell_type": "markdown",
   "id": "22726e7b",
   "metadata": {},
   "source": [
    "# Description:\n",
    "\n",
    "### We will analyse the text starting with turn these comments into a meaningful format, then cleaning data by:\n",
    "- Remove capital letters and replace them by lower case letters.\n",
    "- Remove punctiuation.\n",
    "- Remove stop words and numbers.\n",
    "### AS a final step we will use one of the topic modeling techniques."
   ]
  },
  {
   "cell_type": "markdown",
   "id": "6ee22245",
   "metadata": {},
   "source": [
    "# Tools:\n",
    "- Numpy\n",
    "- Pandas\n",
    "- Sklearn\n",
    "- NLTK\n",
    "- RE\n",
    "- Spacy\n",
    "- Gensim"
   ]
  },
  {
   "cell_type": "code",
   "execution_count": null,
   "id": "6e214b72",
   "metadata": {},
   "outputs": [],
   "source": []
  }
 ],
 "metadata": {
  "kernelspec": {
   "display_name": "Python 3",
   "language": "python",
   "name": "python3"
  },
  "language_info": {
   "codemirror_mode": {
    "name": "ipython",
    "version": 3
   },
   "file_extension": ".py",
   "mimetype": "text/x-python",
   "name": "python",
   "nbconvert_exporter": "python",
   "pygments_lexer": "ipython3",
   "version": "3.8.8"
  }
 },
 "nbformat": 4,
 "nbformat_minor": 5
}
